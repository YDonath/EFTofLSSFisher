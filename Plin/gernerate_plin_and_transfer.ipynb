{
 "cells": [
  {
   "cell_type": "code",
   "execution_count": 1,
   "metadata": {},
   "outputs": [],
   "source": [
    "from getplin import *"
   ]
  },
  {
   "cell_type": "markdown",
   "metadata": {},
   "source": [
    "# BOSS"
   ]
  },
  {
   "cell_type": "code",
   "execution_count": 2,
   "metadata": {},
   "outputs": [],
   "source": [
    "ztabBOSS = np.array([0.05, 0.15, 0.25, 0.35, 0.45, 0.55, 0.65, 0.75])"
   ]
  },
  {
   "cell_type": "code",
   "execution_count": 3,
   "metadata": {},
   "outputs": [
    {
     "name": "stdout",
     "output_type": "stream",
     "text": [
      "[0.9739145352363201, 0.9234992087740269, 0.8757560430403107, 0.8309114784573929, 0.7890384564158086, 0.7500998527059587, 0.713985094112045, 0.6805388331318991]\n",
      "[0.5566154913894211, 0.6118243078152257, 0.6611041409417979, 0.7044863384011567, 0.7422832402650831, 0.77497323257512, 0.803110599759586, 0.8272625977269249]\n"
     ]
    }
   ],
   "source": [
    "getDandf(ztabBOSS)"
   ]
  },
  {
   "cell_type": "code",
   "execution_count": 4,
   "metadata": {},
   "outputs": [
    {
     "data": {
      "text/plain": [
       "0.7426554746821087"
      ]
     },
     "execution_count": 4,
     "metadata": {},
     "output_type": "execute_result"
    }
   ],
   "source": [
    "BOSSdichigh = getalldics(0.57)\n",
    "getD(cosmicdicn(0.57))"
   ]
  },
  {
   "cell_type": "code",
   "execution_count": 5,
   "metadata": {},
   "outputs": [
    {
     "name": "stderr",
     "output_type": "stream",
     "text": [
      "/Users/yaniv/Dropbox (Cambridge University)/Mac/Documents/Stanford/bais loop bispectrum/Final_code/EFTBispectrum/Fisher internal final/Plin/getplin.py:129: VisibleDeprecationWarning: Creating an ndarray from ragged nested sequences (which is a list-or-tuple of lists-or-tuples-or ndarrays with different lengths or shapes) is deprecated. If you meant to do this, you must specify 'dtype=object' when creating the ndarray.\n",
      "  return np.array(allT)\n"
     ]
    }
   ],
   "source": [
    "allsavedT(BOSSdichigh,'CMASSpks')"
   ]
  },
  {
   "cell_type": "code",
   "execution_count": 6,
   "metadata": {},
   "outputs": [
    {
     "data": {
      "text/plain": [
       "0.8440536630202515"
      ]
     },
     "execution_count": 6,
     "metadata": {},
     "output_type": "execute_result"
    }
   ],
   "source": [
    "BOSSdiclow = getalldics(0.32)\n",
    "getD(cosmicdicn(0.32))"
   ]
  },
  {
   "cell_type": "code",
   "execution_count": 7,
   "metadata": {},
   "outputs": [],
   "source": [
    "allsavedT(BOSSdiclow,'LOWZpks')"
   ]
  },
  {
   "cell_type": "markdown",
   "metadata": {},
   "source": [
    "# DESI"
   ]
  },
  {
   "cell_type": "code",
   "execution_count": 8,
   "metadata": {},
   "outputs": [],
   "source": [
    "ztabDESI = np.array([0.65, 0.75, 0.85, 0.95, 1.05, 1.15, 1.25, 1.35, 1.45, 1.55,1.65])"
   ]
  },
  {
   "cell_type": "code",
   "execution_count": 9,
   "metadata": {},
   "outputs": [
    {
     "name": "stdout",
     "output_type": "stream",
     "text": [
      "[0.713985094112045, 0.6805388331318991, 0.6495820998059947, 0.620927099812677, 0.5943870425068296, 0.5697822872150565, 0.5469438817769501, 0.525715320958864, 0.5059531362992696, 0.4875267491463046, 0.47031788548586945]\n",
      "[0.803110599759586, 0.8272625977269249, 0.8479702243439452, 0.8657269764262118, 0.8809699263774308, 0.894078516950397, 0.9053777306655933, 0.9151434084233954, 0.923608334288508, 0.9309682911343138, 0.9373876716743028]\n"
     ]
    }
   ],
   "source": [
    "getDandf(ztabDESI)"
   ]
  },
  {
   "cell_type": "code",
   "execution_count": 10,
   "metadata": {},
   "outputs": [
    {
     "data": {
      "text/plain": [
       "0.6525710787583426"
      ]
     },
     "execution_count": 10,
     "metadata": {},
     "output_type": "execute_result"
    }
   ],
   "source": [
    "DESIdic1 = getalldics(0.84)\n",
    "getD(cosmicdicn(0.84))"
   ]
  },
  {
   "cell_type": "code",
   "execution_count": 11,
   "metadata": {},
   "outputs": [],
   "source": [
    "allsavedT(DESIdic1,'DESI1')"
   ]
  },
  {
   "cell_type": "code",
   "execution_count": 12,
   "metadata": {},
   "outputs": [
    {
     "data": {
      "text/plain": [
       "0.5513779537870404"
      ]
     },
     "execution_count": 12,
     "metadata": {},
     "output_type": "execute_result"
    }
   ],
   "source": [
    "DESIdic2 = getalldics(1.23)\n",
    "getD(cosmicdicn(1.23))"
   ]
  },
  {
   "cell_type": "code",
   "execution_count": 13,
   "metadata": {},
   "outputs": [],
   "source": [
    "allsavedT(DESIdic2,'DESI2')"
   ]
  },
  {
   "cell_type": "markdown",
   "metadata": {},
   "source": [
    "# MMo"
   ]
  },
  {
   "cell_type": "code",
   "execution_count": 14,
   "metadata": {},
   "outputs": [],
   "source": [
    "ztabMMo = np.array([2, 2.5, 3, 3.5, 4, 4.5, 5])"
   ]
  },
  {
   "cell_type": "code",
   "execution_count": 15,
   "metadata": {},
   "outputs": [
    {
     "name": "stdout",
     "output_type": "stream",
     "text": [
      "[0.4182256138295682, 0.36058555542584236, 0.31664522887380003, 0.28213364952335057, 0.2543510033088475, 0.23152339871381686, 0.21244344327079848]\n",
      "[0.9542510922391041, 0.9687151938905824, 0.9770721702936719, 0.982187140168668, 0.9854675088536883, 0.9876517863226253, 0.9891504650418527]\n"
     ]
    }
   ],
   "source": [
    "getDandf(ztabMMo)"
   ]
  },
  {
   "cell_type": "code",
   "execution_count": 16,
   "metadata": {},
   "outputs": [
    {
     "data": {
      "text/plain": [
       "0.3751061325404051"
      ]
     },
     "execution_count": 16,
     "metadata": {},
     "output_type": "execute_result"
    }
   ],
   "source": [
    "MModic1 = getalldics(2.36)\n",
    "getD(cosmicdicn(2.36))"
   ]
  },
  {
   "cell_type": "code",
   "execution_count": 17,
   "metadata": {},
   "outputs": [],
   "source": [
    "allsavedT(MModic1,'MMo1')"
   ]
  },
  {
   "cell_type": "code",
   "execution_count": 18,
   "metadata": {},
   "outputs": [
    {
     "data": {
      "text/plain": [
       "0.24104453911659454"
      ]
     },
     "execution_count": 18,
     "metadata": {},
     "output_type": "execute_result"
    }
   ],
   "source": [
    "MModic2 = getalldics(4.28)\n",
    "getD(cosmicdicn(4.28))"
   ]
  },
  {
   "cell_type": "code",
   "execution_count": 19,
   "metadata": {},
   "outputs": [],
   "source": [
    "allsavedT(MModic2,'MMo2')"
   ]
  },
  {
   "cell_type": "markdown",
   "metadata": {},
   "source": [
    "# MMp"
   ]
  },
  {
   "cell_type": "code",
   "execution_count": 20,
   "metadata": {},
   "outputs": [],
   "source": [
    "ztabMMp = np.array([2, 3, 4, 5])"
   ]
  },
  {
   "cell_type": "code",
   "execution_count": 21,
   "metadata": {},
   "outputs": [
    {
     "name": "stdout",
     "output_type": "stream",
     "text": [
      "[0.4182256138295682, 0.31664522887380003, 0.2543510033088475, 0.21244344327079848]\n",
      "[0.9542510922391041, 0.9770721702936719, 0.9854675088536883, 0.9891504650418527]\n"
     ]
    }
   ],
   "source": [
    "getDandf(ztabMMp)"
   ]
  },
  {
   "cell_type": "code",
   "execution_count": 22,
   "metadata": {},
   "outputs": [
    {
     "data": {
      "text/plain": [
       "0.4040690853139022"
      ]
     },
     "execution_count": 22,
     "metadata": {},
     "output_type": "execute_result"
    }
   ],
   "source": [
    "MMpdic1 = getalldics(2.11)\n",
    "getD(cosmicdicn(2.11))"
   ]
  },
  {
   "cell_type": "code",
   "execution_count": 23,
   "metadata": {},
   "outputs": [],
   "source": [
    "allsavedT(MMpdic1,'MMp1')"
   ]
  },
  {
   "cell_type": "code",
   "execution_count": 24,
   "metadata": {},
   "outputs": [
    {
     "data": {
      "text/plain": [
       "0.24194889317349833"
      ]
     },
     "execution_count": 24,
     "metadata": {},
     "output_type": "execute_result"
    }
   ],
   "source": [
    "MMpdic2 = getalldics(4.26)\n",
    "getD(cosmicdicn(4.26))"
   ]
  },
  {
   "cell_type": "code",
   "execution_count": 25,
   "metadata": {},
   "outputs": [],
   "source": [
    "allsavedT(MMpdic2,'MMp2')"
   ]
  },
  {
   "cell_type": "code",
   "execution_count": null,
   "metadata": {},
   "outputs": [],
   "source": []
  },
  {
   "cell_type": "code",
   "execution_count": null,
   "metadata": {},
   "outputs": [],
   "source": []
  },
  {
   "cell_type": "code",
   "execution_count": null,
   "metadata": {},
   "outputs": [],
   "source": []
  }
 ],
 "metadata": {
  "kernelspec": {
   "display_name": "Python 3 (ipykernel)",
   "language": "python",
   "name": "python3"
  },
  "language_info": {
   "codemirror_mode": {
    "name": "ipython",
    "version": 3
   },
   "file_extension": ".py",
   "mimetype": "text/x-python",
   "name": "python",
   "nbconvert_exporter": "python",
   "pygments_lexer": "ipython3",
   "version": "3.9.12"
  }
 },
 "nbformat": 4,
 "nbformat_minor": 4
}

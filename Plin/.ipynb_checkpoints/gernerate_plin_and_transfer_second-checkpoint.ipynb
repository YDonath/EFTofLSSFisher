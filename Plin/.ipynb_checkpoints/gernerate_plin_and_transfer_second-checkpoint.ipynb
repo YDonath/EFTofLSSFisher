{
 "cells": [
  {
   "cell_type": "code",
   "execution_count": 1,
   "metadata": {},
   "outputs": [],
   "source": [
    "from getplin import *\n"
   ]
  },
  {
   "cell_type": "code",
   "execution_count": 3,
   "metadata": {},
   "outputs": [],
   "source": [
    "from getplinsecond import *"
   ]
  },
  {
   "cell_type": "code",
   "execution_count": 2,
   "metadata": {},
   "outputs": [],
   "source": [
    "def getDandf(ztab):\n",
    "    growthD =[]\n",
    "    growthR =[]\n",
    "    for i in range(len(ztab)):\n",
    "        growthD.append(getD(cosmicdicn(ztab[i],3.044,0.965,0.673, 0.322106,0.02237,0.3,0)))\n",
    "        growthR.append(getf(cosmicdicn(ztab[i],3.044,0.965,0.673, 0.322106,0.02237,0.3,0)))\n",
    "    print(growthD)\n",
    "    print(growthR)"
   ]
  },
  {
   "cell_type": "code",
   "execution_count": 2,
   "metadata": {},
   "outputs": [],
   "source": [
    "BOSSdichigh = getalldics(0.57,3.044,0.965,0.673, 0.322106,0.02237,0.3,0)"
   ]
  },
  {
   "cell_type": "code",
   "execution_count": 4,
   "metadata": {},
   "outputs": [],
   "source": [
    "BOSSdichigh2=getalldics2(0.57)"
   ]
  },
  {
   "cell_type": "code",
   "execution_count": 15,
   "metadata": {},
   "outputs": [
    {
     "data": {
      "text/plain": [
       "15"
      ]
     },
     "execution_count": 15,
     "metadata": {},
     "output_type": "execute_result"
    }
   ],
   "source": [
    "len(BOSSdichigh2)"
   ]
  },
  {
   "cell_type": "code",
   "execution_count": 5,
   "metadata": {},
   "outputs": [
    {
     "data": {
      "text/plain": [
       "dict_values([0.02237, 0.12030019077591113, 0.673, 3.044, 0.965, 'mPk,mTk', 1, 0.57, 1, 2.0328, 0.3, 0.71611, 0])"
      ]
     },
     "execution_count": 5,
     "metadata": {},
     "output_type": "execute_result"
    }
   ],
   "source": [
    "BOSSdichigh[0].values()"
   ]
  },
  {
   "cell_type": "code",
   "execution_count": 6,
   "metadata": {},
   "outputs": [
    {
     "data": {
      "text/plain": [
       "{'omega_b': 0.02237,\n",
       " 'omega_cdm': 0.12030019077591113,\n",
       " 'h': 0.673,\n",
       " 'ln10^{10}A_s': 3.044,\n",
       " 'n_s': 0.965,\n",
       " 'output': 'mPk,mTk',\n",
       " 'P_k_max_h/Mpc': 1,\n",
       " 'z_pk': 0.57,\n",
       " 'N_ncdm': 1,\n",
       " 'N_ur': 2.0328,\n",
       " 'm_ncdm': 0.3,\n",
       " 'T_ncdm': 0.71611,\n",
       " 'Omega_k': 0.0}"
      ]
     },
     "execution_count": 6,
     "metadata": {},
     "output_type": "execute_result"
    }
   ],
   "source": [
    "BOSSdichigh2[0]"
   ]
  },
  {
   "cell_type": "code",
   "execution_count": 7,
   "metadata": {},
   "outputs": [
    {
     "name": "stdout",
     "output_type": "stream",
     "text": [
      "[0. 0. 0. 0. 0. 0. 0. 0. 0. 0. 0. 0.]\n",
      "[0. 0. 0. 0. 0. 0. 0. 0. 0. 0. 0. 0.]\n",
      "[0. 0. 0. 0. 0. 0. 0. 0. 0. 0. 0. 0.]\n",
      "[0. 0. 0. 0. 0. 0. 0. 0. 0. 0. 0. 0.]\n",
      "[0. 0. 0. 0. 0. 0. 0. 0. 0. 0. 0. 0.]\n",
      "[0. 0. 0. 0. 0. 0. 0. 0. 0. 0. 0. 0.]\n",
      "[0. 0. 0. 0. 0. 0. 0. 0. 0. 0. 0. 0.]\n",
      "[0. 0. 0. 0. 0. 0. 0. 0. 0. 0. 0. 0.]\n",
      "[0. 0. 0. 0. 0. 0. 0. 0. 0. 0. 0. 0.]\n",
      "[0. 0. 0. 0. 0. 0. 0. 0. 0. 0. 0. 0.]\n",
      "[0. 0. 0. 0. 0. 0. 0. 0. 0. 0. 0. 0.]\n",
      "[0. 0. 0. 0. 0. 0. 0. 0. 0. 0. 0. 0.]\n",
      "[0. 0. 0. 0. 0. 0. 0. 0. 0. 0. 0. 0.]\n",
      "[0. 0. 0. 0. 0. 0. 0. 0. 0. 0. 0. 0.]\n",
      "[0. 0. 0. 0. 0. 0. 0. 0. 0. 0. 0. 0.]\n"
     ]
    }
   ],
   "source": [
    "for i in range(15):\n",
    "    print(np.array([x for i,x in enumerate(list(BOSSdichigh[i].values())) if i!=5])-np.array([x for i,x in enumerate(list(BOSSdichigh2[i].values())) if i!=5]))\n",
    "\n",
    "\n"
   ]
  },
  {
   "cell_type": "code",
   "execution_count": 31,
   "metadata": {},
   "outputs": [
    {
     "data": {
      "text/plain": [
       "array([0., 0., 0., 0., 0., 0., 0., 0., 0., 0., 0., 0.])"
      ]
     },
     "execution_count": 31,
     "metadata": {},
     "output_type": "execute_result"
    }
   ],
   "source": [
    "np.array([x for i,x in enumerate(a) if i!=5])-np.array([x for i,x in enumerate(a) if i!=5])"
   ]
  },
  {
   "cell_type": "code",
   "execution_count": 23,
   "metadata": {},
   "outputs": [],
   "source": [
    "a=list(BOSSdichigh[0].values())"
   ]
  },
  {
   "cell_type": "markdown",
   "metadata": {},
   "source": [
    "# BOSS"
   ]
  },
  {
   "cell_type": "code",
   "execution_count": 3,
   "metadata": {},
   "outputs": [],
   "source": [
    "ztabBOSS = np.array([0.05, 0.15, 0.25, 0.35, 0.45, 0.55, 0.65, 0.75])"
   ]
  },
  {
   "cell_type": "code",
   "execution_count": 4,
   "metadata": {},
   "outputs": [
    {
     "name": "stdout",
     "output_type": "stream",
     "text": [
      "[0.973938713655033, 0.9235978369817912, 0.8759572952224975, 0.8312353500171761, 0.789497353926307, 0.7506997404081879, 0.7147268398976079, 0.6814195172840236]\n",
      "[0.5559799005938011, 0.6106395138125067, 0.6593260133608193, 0.7021004757219186, 0.7392994196584667, 0.7714187036372595, 0.799023714461632, 0.8226875527129273]\n"
     ]
    }
   ],
   "source": [
    "getDandf(ztabBOSS)"
   ]
  },
  {
   "cell_type": "code",
   "execution_count": 5,
   "metadata": {},
   "outputs": [
    {
     "data": {
      "text/plain": [
       "0.7432838038198406"
      ]
     },
     "execution_count": 5,
     "metadata": {},
     "output_type": "execute_result"
    }
   ],
   "source": [
    "BOSSdichigh = getalldics(0.57,3.044,0.965,0.673, 0.322106,0.02237,0.3,0)\n",
    "BOSSdichighf = getalldicsforf(0.57,3.044,0.965,0.673, 0.322106,0.02237,0.3,0)\n",
    "getD(cosmicdicn(0.57,3.044,0.965,0.673, 0.322106,0.02237,0.3,0))"
   ]
  },
  {
   "cell_type": "code",
   "execution_count": 11,
   "metadata": {},
   "outputs": [],
   "source": [
    "allsavedT(BOSSdichigh,BOSSdichighf,'CMASSpksNk')"
   ]
  },
  {
   "cell_type": "code",
   "execution_count": 12,
   "metadata": {},
   "outputs": [
    {
     "data": {
      "text/plain": [
       "0.8443391196514677"
      ]
     },
     "execution_count": 12,
     "metadata": {},
     "output_type": "execute_result"
    }
   ],
   "source": [
    "BOSSdiclow = getalldics(0.32,3.044,0.965,0.673, 0.322106,0.02237,0.3,0)\n",
    "BOSSdiclowf = getalldicsforf(0.32,3.044,0.965,0.673, 0.322106,0.02237,0.3,0)\n",
    "getD(cosmicdicn(0.32,3.044,0.965,0.673, 0.322106,0.02237,0.3,0))"
   ]
  },
  {
   "cell_type": "code",
   "execution_count": 13,
   "metadata": {},
   "outputs": [],
   "source": [
    "allsavedT(BOSSdiclow,BOSSdiclowf,'LOWZpksNk')"
   ]
  },
  {
   "cell_type": "markdown",
   "metadata": {},
   "source": [
    "# DESI"
   ]
  },
  {
   "cell_type": "code",
   "execution_count": 14,
   "metadata": {},
   "outputs": [],
   "source": [
    "ztabDESI = np.array([0.65, 0.75, 0.85, 0.95, 1.05, 1.15, 1.25, 1.35, 1.45, 1.55,1.65])"
   ]
  },
  {
   "cell_type": "code",
   "execution_count": 15,
   "metadata": {},
   "outputs": [
    {
     "name": "stdout",
     "output_type": "stream",
     "text": [
      "[0.7147268398976079, 0.6814195172840236, 0.6505961593752985, 0.6220672608943191, 0.5956450407211369, 0.5711494009737322, 0.5484113115796533, 0.5272744484842405, 0.5075956926551383, 0.4892449166420755, 0.47210435196678463]\n",
      "[0.799023714461632, 0.8226875527129273, 0.8429531428816396, 0.8603132350398828, 0.8752024918671701, 0.8879970333021452, 0.8990181249903924, 0.9085378342658417, 0.9167853192345018, 0.923952996823696, 0.9302022056485543]\n"
     ]
    }
   ],
   "source": [
    "getDandf(ztabDESI)"
   ]
  },
  {
   "cell_type": "code",
   "execution_count": 16,
   "metadata": {},
   "outputs": [
    {
     "data": {
      "text/plain": [
       "0.6535721061961522"
      ]
     },
     "execution_count": 16,
     "metadata": {},
     "output_type": "execute_result"
    }
   ],
   "source": [
    "DESIdic1 = getalldics(0.84,3.044,0.965,0.673, 0.322106,0.02237,0.3,0)\n",
    "DESIdic1f = getalldicsforf(0.84,3.044,0.965,0.673, 0.322106,0.02237,0.3,0)\n",
    "getD(cosmicdicn(0.84,3.044,0.965,0.673, 0.322106,0.02237,0.3,0))"
   ]
  },
  {
   "cell_type": "code",
   "execution_count": 17,
   "metadata": {},
   "outputs": [],
   "source": [
    "allsavedT(DESIdic1,DESIdic1f,'DESIlNk')"
   ]
  },
  {
   "cell_type": "code",
   "execution_count": 18,
   "metadata": {},
   "outputs": [
    {
     "data": {
      "text/plain": [
       "0.5528260185623496"
      ]
     },
     "execution_count": 18,
     "metadata": {},
     "output_type": "execute_result"
    }
   ],
   "source": [
    "DESIdic2 = getalldics(1.23,3.044,0.965,0.673, 0.322106,0.02237,0.3,0)\n",
    "DESIdic2f = getalldicsforf(1.23,3.044,0.965,0.673, 0.322106,0.02237,0.3,0)\n",
    "getD(cosmicdicn(1.23,3.044,0.965,0.673, 0.322106,0.02237,0.3,0))"
   ]
  },
  {
   "cell_type": "code",
   "execution_count": 19,
   "metadata": {},
   "outputs": [],
   "source": [
    "allsavedT(DESIdic2,DESIdic2f,'DESIhNk')"
   ]
  },
  {
   "cell_type": "markdown",
   "metadata": {},
   "source": [
    "# MMo"
   ]
  },
  {
   "cell_type": "code",
   "execution_count": 20,
   "metadata": {},
   "outputs": [],
   "source": [
    "ztabMMo = np.array([2, 2.5, 3, 3.5, 4, 4.5, 5])"
   ]
  },
  {
   "cell_type": "code",
   "execution_count": 21,
   "metadata": {},
   "outputs": [
    {
     "name": "stdout",
     "output_type": "stream",
     "text": [
      "[0.42020110428342006, 0.36272799579672305, 0.3188745725930273, 0.2844001952601862, 0.25662379231412885, 0.23378307001365894, 0.2146779141872147]\n",
      "[0.9466075281915435, 0.9606657166004888, 0.9687825324004987, 0.973748370874903, 0.9769321736957639, 0.9790517015436108, 0.9805057101340311]\n"
     ]
    }
   ],
   "source": [
    "getDandf(ztabMMo)"
   ]
  },
  {
   "cell_type": "code",
   "execution_count": 22,
   "metadata": {},
   "outputs": [
    {
     "data": {
      "text/plain": [
       "0.37721157585659637"
      ]
     },
     "execution_count": 22,
     "metadata": {},
     "output_type": "execute_result"
    }
   ],
   "source": [
    "MModic1 = getalldics(2.36,3.044,0.965,0.673, 0.322106,0.02237,0.3,0)\n",
    "MModic1f = getalldicsforf(2.36,3.044,0.965,0.673, 0.322106,0.02237,0.3,0)\n",
    "getD(cosmicdicn(2.36,3.044,0.965,0.673, 0.322106,0.02237,0.3,0))"
   ]
  },
  {
   "cell_type": "code",
   "execution_count": 23,
   "metadata": {},
   "outputs": [],
   "source": [
    "allsavedT(MModic1,MModic1f,'MMo1Nk')"
   ]
  },
  {
   "cell_type": "code",
   "execution_count": 24,
   "metadata": {},
   "outputs": [
    {
     "data": {
      "text/plain": [
       "0.2433118256462636"
      ]
     },
     "execution_count": 24,
     "metadata": {},
     "output_type": "execute_result"
    }
   ],
   "source": [
    "MModic2 = getalldics(4.28,3.044,0.965,0.673, 0.322106,0.02237,0.3,0)\n",
    "MModic2f = getalldicsforf(4.28,3.044,0.965,0.673, 0.322106,0.02237,0.3,0)\n",
    "getD(cosmicdicn(4.28,3.044,0.965,0.673, 0.322106,0.02237,0.3,0))"
   ]
  },
  {
   "cell_type": "code",
   "execution_count": 25,
   "metadata": {},
   "outputs": [],
   "source": [
    "allsavedT(MModic2,MModic2f,'MMo2Nk')"
   ]
  },
  {
   "cell_type": "markdown",
   "metadata": {},
   "source": [
    "# MMp"
   ]
  },
  {
   "cell_type": "code",
   "execution_count": 26,
   "metadata": {},
   "outputs": [],
   "source": [
    "ztabMMp = np.array([2, 3, 4, 5])"
   ]
  },
  {
   "cell_type": "code",
   "execution_count": 27,
   "metadata": {},
   "outputs": [
    {
     "name": "stdout",
     "output_type": "stream",
     "text": [
      "[0.42020110428342006, 0.3188745725930273, 0.25662379231412885, 0.2146779141872147]\n",
      "[0.9466075281915435, 0.9687825324004987, 0.9769321736957639, 0.9805057101340311]\n"
     ]
    }
   ],
   "source": [
    "getDandf(ztabMMp)"
   ]
  },
  {
   "cell_type": "code",
   "execution_count": 28,
   "metadata": {},
   "outputs": [
    {
     "data": {
      "text/plain": [
       "0.4060902797154226"
      ]
     },
     "execution_count": 28,
     "metadata": {},
     "output_type": "execute_result"
    }
   ],
   "source": [
    "MMpdic1 = getalldics(2.11,3.044,0.965,0.673, 0.322106,0.02237,0.3,0)\n",
    "MMpdic1f = getalldicsforf(2.11,3.044,0.965,0.673, 0.322106,0.02237,0.3,0)\n",
    "getD(cosmicdicn(2.11,3.044,0.965,0.673, 0.322106,0.02237,0.3,0))"
   ]
  },
  {
   "cell_type": "code",
   "execution_count": 29,
   "metadata": {},
   "outputs": [],
   "source": [
    "allsavedT(MMpdic1,MMpdic1f,'MMp1Nk')"
   ]
  },
  {
   "cell_type": "code",
   "execution_count": 30,
   "metadata": {},
   "outputs": [
    {
     "data": {
      "text/plain": [
       "0.24421674005370525"
      ]
     },
     "execution_count": 30,
     "metadata": {},
     "output_type": "execute_result"
    }
   ],
   "source": [
    "MMpdic2 = getalldics(4.26,3.044,0.965,0.673, 0.322106,0.02237,0.3,0)\n",
    "MMpdic2f = getalldicsforf(4.26,3.044,0.965,0.673, 0.322106,0.02237,0.3,0)\n",
    "getD(cosmicdicn(4.26,3.044,0.965,0.673, 0.322106,0.02237,0.3,0))"
   ]
  },
  {
   "cell_type": "code",
   "execution_count": 31,
   "metadata": {},
   "outputs": [],
   "source": [
    "allsavedT(MMpdic2,MMpdic2f,'MMp2Nk')"
   ]
  },
  {
   "cell_type": "code",
   "execution_count": null,
   "metadata": {},
   "outputs": [],
   "source": []
  }
 ],
 "metadata": {
  "kernelspec": {
   "display_name": "Python 3 (ipykernel)",
   "language": "python",
   "name": "python3"
  },
  "language_info": {
   "codemirror_mode": {
    "name": "ipython",
    "version": 3
   },
   "file_extension": ".py",
   "mimetype": "text/x-python",
   "name": "python",
   "nbconvert_exporter": "python",
   "pygments_lexer": "ipython3",
   "version": "3.9.12"
  }
 },
 "nbformat": 4,
 "nbformat_minor": 4
}

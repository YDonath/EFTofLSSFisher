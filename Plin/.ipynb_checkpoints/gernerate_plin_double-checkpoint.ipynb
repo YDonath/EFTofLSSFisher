{
 "cells": [
  {
   "cell_type": "code",
   "execution_count": 1,
   "metadata": {},
   "outputs": [],
   "source": [
    "from getplin_for_secondderiv import *"
   ]
  },
  {
   "cell_type": "code",
   "execution_count": 2,
   "metadata": {},
   "outputs": [],
   "source": [
    "def getDandf(ztab):\n",
    "    growthD =[]\n",
    "    growthR =[]\n",
    "    for i in range(len(ztab)):\n",
    "        growthD.append(getD(cosmicdicn(ztab[i])))\n",
    "        growthR.append(getf(cosmicdicn(ztab[i])))\n",
    "    print(growthD)\n",
    "    print(growthR)"
   ]
  },
  {
   "cell_type": "markdown",
   "metadata": {},
   "source": [
    "# BOSS"
   ]
  },
  {
   "cell_type": "code",
   "execution_count": 2,
   "metadata": {},
   "outputs": [],
   "source": [
    "BOSSdichigh = getalldicsdouble(0.57)"
   ]
  },
  {
   "cell_type": "code",
   "execution_count": 3,
   "metadata": {},
   "outputs": [
    {
     "data": {
      "text/plain": [
       "42"
      ]
     },
     "execution_count": 3,
     "metadata": {},
     "output_type": "execute_result"
    }
   ],
   "source": [
    "len(BOSSdichigh)"
   ]
  },
  {
   "cell_type": "code",
   "execution_count": 4,
   "metadata": {},
   "outputs": [
    {
     "name": "stderr",
     "output_type": "stream",
     "text": [
      "/Users/yaniv/Dropbox (Cambridge University)/Mac/Documents/Stanford/bais loop bispectrum/Final_code/EFTBispectrum/Fisher produce results 4/plins/getplin_for_secondderiv.py:148: VisibleDeprecationWarning: Creating an ndarray from ragged nested sequences (which is a list-or-tuple of lists-or-tuples-or ndarrays with different lengths or shapes) is deprecated. If you meant to do this, you must specify 'dtype=object' when creating the ndarray.\n",
      "  return np.array(allT)\n"
     ]
    }
   ],
   "source": [
    "allsavedTdouble(BOSSdichigh,'CMASSpksdouble')"
   ]
  },
  {
   "cell_type": "code",
   "execution_count": 10,
   "metadata": {},
   "outputs": [
    {
     "data": {
      "text/plain": [
       "0.8443391196514677"
      ]
     },
     "execution_count": 10,
     "metadata": {},
     "output_type": "execute_result"
    }
   ],
   "source": [
    "BOSSdiclow = getalldicsdouble(0.32)\n",
    "getD(cosmicdicn(0.32))"
   ]
  },
  {
   "cell_type": "code",
   "execution_count": 12,
   "metadata": {},
   "outputs": [],
   "source": [
    "allsavedTdouble(BOSSdiclow,'LOWZpksdouble)"
   ]
  },
  {
   "cell_type": "markdown",
   "metadata": {},
   "source": [
    "# DESI"
   ]
  },
  {
   "cell_type": "code",
   "execution_count": 16,
   "metadata": {},
   "outputs": [],
   "source": [
    "ztabDESI = np.array([0.65, 0.75, 0.85, 0.95, 1.05, 1.15, 1.25, 1.35, 1.45, 1.55,1.65])"
   ]
  },
  {
   "cell_type": "code",
   "execution_count": 17,
   "metadata": {},
   "outputs": [
    {
     "name": "stdout",
     "output_type": "stream",
     "text": [
      "[0.7147268398976079, 0.6814195172840236, 0.6505961593752985, 0.6220672608943191, 0.5956450407211369, 0.5711494009737322, 0.5484113115796533, 0.5272744484842405, 0.5075956926551383, 0.4892449166420755, 0.47210435196678463]\n",
      "[0.799023714461632, 0.8226875527129273, 0.8429531428816396, 0.8603132350398828, 0.8752024918671701, 0.8879970333021452, 0.8990181249903924, 0.9085378342658417, 0.9167853192345018, 0.923952996823696, 0.9302022056485543]\n"
     ]
    }
   ],
   "source": [
    "getDandf(ztabDESI)"
   ]
  },
  {
   "cell_type": "code",
   "execution_count": 18,
   "metadata": {},
   "outputs": [
    {
     "data": {
      "text/plain": [
       "0.6535721061961522"
      ]
     },
     "execution_count": 18,
     "metadata": {},
     "output_type": "execute_result"
    }
   ],
   "source": [
    "DESIdic1 = getalldicsdouble(0.84)\n",
    "getD(cosmicdicn(0.84))"
   ]
  },
  {
   "cell_type": "code",
   "execution_count": 19,
   "metadata": {},
   "outputs": [],
   "source": [
    "allsavedTdouble(DESIdic1,'DESIldouble')"
   ]
  },
  {
   "cell_type": "code",
   "execution_count": 20,
   "metadata": {},
   "outputs": [
    {
     "data": {
      "text/plain": [
       "0.5528260185623496"
      ]
     },
     "execution_count": 20,
     "metadata": {},
     "output_type": "execute_result"
    }
   ],
   "source": [
    "DESIdic2 = getalldicsdouble(1.23)\n",
    "getD(cosmicdicn(1.23))"
   ]
  },
  {
   "cell_type": "code",
   "execution_count": 21,
   "metadata": {},
   "outputs": [],
   "source": [
    "allsavedTdouble(DESIdic2,'DESIhdouble')"
   ]
  },
  {
   "cell_type": "markdown",
   "metadata": {},
   "source": [
    "# MMo"
   ]
  },
  {
   "cell_type": "code",
   "execution_count": 22,
   "metadata": {},
   "outputs": [],
   "source": [
    "ztabMMo = np.array([2, 2.5, 3, 3.5, 4, 4.5, 5])"
   ]
  },
  {
   "cell_type": "code",
   "execution_count": 23,
   "metadata": {},
   "outputs": [
    {
     "name": "stdout",
     "output_type": "stream",
     "text": [
      "[0.42020110428342006, 0.36272799579672305, 0.3188745725930273, 0.2844001952601862, 0.25662379231412885, 0.23378307001365894, 0.2146779141872147]\n",
      "[0.9466075281915435, 0.9606657166004888, 0.9687825324004987, 0.973748370874903, 0.9769321736957639, 0.9790517015436108, 0.9805057101340311]\n"
     ]
    }
   ],
   "source": [
    "getDandf(ztabMMo)"
   ]
  },
  {
   "cell_type": "code",
   "execution_count": 26,
   "metadata": {},
   "outputs": [
    {
     "data": {
      "text/plain": [
       "0.37721157585659637"
      ]
     },
     "execution_count": 26,
     "metadata": {},
     "output_type": "execute_result"
    }
   ],
   "source": [
    "MModic1 = getalldicsdouble(2.36)\n",
    "getD(cosmicdicn(2.36))"
   ]
  },
  {
   "cell_type": "code",
   "execution_count": 28,
   "metadata": {},
   "outputs": [],
   "source": [
    "allsavedTdouble(MModic1,'MMo1double')"
   ]
  },
  {
   "cell_type": "code",
   "execution_count": 29,
   "metadata": {},
   "outputs": [
    {
     "data": {
      "text/plain": [
       "0.2433118256462636"
      ]
     },
     "execution_count": 29,
     "metadata": {},
     "output_type": "execute_result"
    }
   ],
   "source": [
    "MModic2 = getalldicsdouble(4.28)\n",
    "getD(cosmicdicn(4.28))"
   ]
  },
  {
   "cell_type": "code",
   "execution_count": 30,
   "metadata": {},
   "outputs": [],
   "source": [
    "allsavedTdouble(MModic2,'MMo2double')"
   ]
  },
  {
   "cell_type": "markdown",
   "metadata": {},
   "source": [
    "# MMp"
   ]
  },
  {
   "cell_type": "code",
   "execution_count": 31,
   "metadata": {},
   "outputs": [],
   "source": [
    "ztabMMp = np.array([2, 3, 4, 5])"
   ]
  },
  {
   "cell_type": "code",
   "execution_count": 32,
   "metadata": {},
   "outputs": [
    {
     "name": "stdout",
     "output_type": "stream",
     "text": [
      "[0.42020110428342006, 0.3188745725930273, 0.25662379231412885, 0.2146779141872147]\n",
      "[0.9466075281915435, 0.9687825324004987, 0.9769321736957639, 0.9805057101340311]\n"
     ]
    }
   ],
   "source": [
    "getDandf(ztabMMp)"
   ]
  },
  {
   "cell_type": "code",
   "execution_count": 33,
   "metadata": {},
   "outputs": [
    {
     "data": {
      "text/plain": [
       "0.4060902797154226"
      ]
     },
     "execution_count": 33,
     "metadata": {},
     "output_type": "execute_result"
    }
   ],
   "source": [
    "MMpdic1 = getalldicsdouble(2.11)\n",
    "getD(cosmicdicn(2.11))"
   ]
  },
  {
   "cell_type": "code",
   "execution_count": 34,
   "metadata": {},
   "outputs": [],
   "source": [
    "allsavedTdouble(MMpdic1,'MMp1double')"
   ]
  },
  {
   "cell_type": "code",
   "execution_count": 36,
   "metadata": {},
   "outputs": [
    {
     "data": {
      "text/plain": [
       "0.24421674005370525"
      ]
     },
     "execution_count": 36,
     "metadata": {},
     "output_type": "execute_result"
    }
   ],
   "source": [
    "MMpdic2 = getalldicsdouble(4.26)\n",
    "getD(cosmicdicn(4.26))"
   ]
  },
  {
   "cell_type": "code",
   "execution_count": 37,
   "metadata": {},
   "outputs": [],
   "source": [
    "allsavedTdouble(MMpdic2,'MMp2double')"
   ]
  },
  {
   "cell_type": "code",
   "execution_count": null,
   "metadata": {},
   "outputs": [],
   "source": []
  }
 ],
 "metadata": {
  "kernelspec": {
   "display_name": "Python 3 (ipykernel)",
   "language": "python",
   "name": "python3"
  },
  "language_info": {
   "codemirror_mode": {
    "name": "ipython",
    "version": 3
   },
   "file_extension": ".py",
   "mimetype": "text/x-python",
   "name": "python",
   "nbconvert_exporter": "python",
   "pygments_lexer": "ipython3",
   "version": "3.9.12"
  }
 },
 "nbformat": 4,
 "nbformat_minor": 4
}

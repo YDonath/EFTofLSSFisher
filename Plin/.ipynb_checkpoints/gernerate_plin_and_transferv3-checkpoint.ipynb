{
 "cells": [
  {
   "cell_type": "code",
   "execution_count": 1,
   "metadata": {},
   "outputs": [],
   "source": [
    "from getplin import *"
   ]
  },
  {
   "cell_type": "code",
   "execution_count": 5,
   "metadata": {},
   "outputs": [],
   "source": [
    "def getDandf(ztab):\n",
    "    growthD =[]\n",
    "    growthR =[]\n",
    "    for i in range(len(ztab)):\n",
    "        growthD.append(getD(cosmicdicn(ztab[i],3.044,0.965,0.673, 0.322106,0.02237,0.3,0)))\n",
    "        growthR.append(getf(cosmicdicn(ztab[i],3.044,0.965,0.673, 0.322106,0.02237,0.3,0)))\n",
    "    print(growthD)\n",
    "    print(growthR)"
   ]
  },
  {
   "cell_type": "markdown",
   "metadata": {},
   "source": [
    "# BOSS"
   ]
  },
  {
   "cell_type": "code",
   "execution_count": 6,
   "metadata": {},
   "outputs": [],
   "source": [
    "ztabBOSS = np.array([0.05, 0.15, 0.25, 0.35, 0.45, 0.55, 0.65, 0.75])"
   ]
  },
  {
   "cell_type": "code",
   "execution_count": 7,
   "metadata": {},
   "outputs": [
    {
     "name": "stdout",
     "output_type": "stream",
     "text": [
      "[0.973938713655033, 0.9235978369817912, 0.8759572952224975, 0.8312353500171761, 0.789497353926307, 0.7506997404081879, 0.7147268398976079, 0.6814195172840236]\n",
      "[0.5559799005938011, 0.6106395138125067, 0.6593260133608193, 0.7021004757219186, 0.7392994196584667, 0.7714187036372595, 0.799023714461632, 0.8226875527129273]\n"
     ]
    }
   ],
   "source": [
    "getDandf(ztabBOSS)"
   ]
  },
  {
   "cell_type": "code",
   "execution_count": 8,
   "metadata": {},
   "outputs": [
    {
     "data": {
      "text/plain": [
       "0.7432838038198406"
      ]
     },
     "execution_count": 8,
     "metadata": {},
     "output_type": "execute_result"
    }
   ],
   "source": [
    "BOSSdichigh = getalldics(0.57,3.044,0.965,0.673, 0.322106,0.02237,0.3,0)\n",
    "BOSSdichighf = getalldicsforf(0.57,3.044,0.965,0.673, 0.322106,0.02237,0.3,0)\n",
    "getD(cosmicdicn(0.57,3.044,0.965,0.673, 0.322106,0.02237,0.3,0))"
   ]
  },
  {
   "cell_type": "code",
   "execution_count": 9,
   "metadata": {},
   "outputs": [
    {
     "name": "stderr",
     "output_type": "stream",
     "text": [
      "/Users/yaniv/Dropbox (Cambridge University)/Mac/Documents/Stanford/bais loop bispectrum/Final_code/EFTBispectrum/Fisher produce results 3/plins/getplin.py:151: VisibleDeprecationWarning: Creating an ndarray from ragged nested sequences (which is a list-or-tuple of lists-or-tuples-or ndarrays with different lengths or shapes) is deprecated. If you meant to do this, you must specify 'dtype=object' when creating the ndarray.\n",
      "  return np.array(allT)\n"
     ]
    }
   ],
   "source": [
    "allsavedT(BOSSdichigh,BOSSdichighf,'CMASSpksNk')"
   ]
  },
  {
   "cell_type": "code",
   "execution_count": 10,
   "metadata": {},
   "outputs": [
    {
     "data": {
      "text/plain": [
       "0.8443391196514677"
      ]
     },
     "execution_count": 10,
     "metadata": {},
     "output_type": "execute_result"
    }
   ],
   "source": [
    "BOSSdiclow = getalldics(0.32,3.044,0.965,0.673, 0.322106,0.02237,0.3,0)\n",
    "BOSSdiclowf = getalldicsforf(0.32,3.044,0.965,0.673, 0.322106,0.02237,0.3,0)\n",
    "getD(cosmicdicn(0.32,3.044,0.965,0.673, 0.322106,0.02237,0.3,0))"
   ]
  },
  {
   "cell_type": "code",
   "execution_count": 11,
   "metadata": {},
   "outputs": [
    {
     "ename": "KeyboardInterrupt",
     "evalue": "",
     "output_type": "error",
     "traceback": [
      "\u001b[0;31m---------------------------------------------------------------------------\u001b[0m",
      "\u001b[0;31mKeyboardInterrupt\u001b[0m                         Traceback (most recent call last)",
      "Input \u001b[0;32mIn [11]\u001b[0m, in \u001b[0;36m<cell line: 1>\u001b[0;34m()\u001b[0m\n\u001b[0;32m----> 1\u001b[0m \u001b[43mallsavedT\u001b[49m\u001b[43m(\u001b[49m\u001b[43mBOSSdiclow\u001b[49m\u001b[43m,\u001b[49m\u001b[43mBOSSdiclowf\u001b[49m\u001b[43m,\u001b[49m\u001b[38;5;124;43m'\u001b[39;49m\u001b[38;5;124;43mLOWZpksNk\u001b[39;49m\u001b[38;5;124;43m'\u001b[39;49m\u001b[43m)\u001b[49m\n",
      "File \u001b[0;32m~/Dropbox (Cambridge University)/Mac/Documents/Stanford/bais loop bispectrum/Final_code/EFTBispectrum/Fisher produce results 3/plins/getplin.py:187\u001b[0m, in \u001b[0;36mallsavedT\u001b[0;34m(dics, dicsf, folder)\u001b[0m\n\u001b[1;32m    185\u001b[0m fs \u001b[38;5;241m=\u001b[39m getallfs(dicsf)\n\u001b[1;32m    186\u001b[0m pks \u001b[38;5;241m=\u001b[39m getallpks(dics)\n\u001b[0;32m--> 187\u001b[0m Ts \u001b[38;5;241m=\u001b[39m \u001b[43mgetallTs\u001b[49m\u001b[43m(\u001b[49m\u001b[43mdics\u001b[49m\u001b[43m)\u001b[49m\n\u001b[1;32m    188\u001b[0m savepkandfandT(pks,Ts,fs,folder)\n",
      "File \u001b[0;32m~/Dropbox (Cambridge University)/Mac/Documents/Stanford/bais loop bispectrum/Final_code/EFTBispectrum/Fisher produce results 3/plins/getplin.py:148\u001b[0m, in \u001b[0;36mgetallTs\u001b[0;34m(dics)\u001b[0m\n\u001b[1;32m    146\u001b[0m allT\u001b[38;5;241m=\u001b[39m[]\n\u001b[1;32m    147\u001b[0m \u001b[38;5;28;01mfor\u001b[39;00m i \u001b[38;5;129;01min\u001b[39;00m \u001b[38;5;28mrange\u001b[39m(\u001b[38;5;28mlen\u001b[39m(dics)):\n\u001b[0;32m--> 148\u001b[0m     ks,Ta \u001b[38;5;241m=\u001b[39m \u001b[43mgetT\u001b[49m\u001b[43m(\u001b[49m\u001b[43mdics\u001b[49m\u001b[43m[\u001b[49m\u001b[43mi\u001b[49m\u001b[43m]\u001b[49m\u001b[43m)\u001b[49m\n\u001b[1;32m    149\u001b[0m     allT\u001b[38;5;241m.\u001b[39mappend(ks)\n\u001b[1;32m    150\u001b[0m     allT\u001b[38;5;241m.\u001b[39mappend(Ta)\n",
      "File \u001b[0;32m~/Dropbox (Cambridge University)/Mac/Documents/Stanford/bais loop bispectrum/Final_code/EFTBispectrum/Fisher produce results 3/plins/getplin.py:89\u001b[0m, in \u001b[0;36mgetT\u001b[0;34m(dic)\u001b[0m\n\u001b[1;32m     87\u001b[0m M \u001b[38;5;241m=\u001b[39m Class()\n\u001b[1;32m     88\u001b[0m M\u001b[38;5;241m.\u001b[39mset(dic)\n\u001b[0;32m---> 89\u001b[0m \u001b[43mM\u001b[49m\u001b[38;5;241;43m.\u001b[39;49m\u001b[43mcompute\u001b[49m\u001b[43m(\u001b[49m\u001b[43m)\u001b[49m\n\u001b[1;32m     90\u001b[0m zpk \u001b[38;5;241m=\u001b[39m dic[\u001b[38;5;124m'\u001b[39m\u001b[38;5;124mz_pk\u001b[39m\u001b[38;5;124m'\u001b[39m]\n\u001b[1;32m     92\u001b[0m Dg \u001b[38;5;241m=\u001b[39m M\u001b[38;5;241m.\u001b[39mscale_independent_growth_factor(zpk)\u001b[38;5;241m/\u001b[39m((\u001b[38;5;241m1\u001b[39m\u001b[38;5;241m+\u001b[39m\u001b[38;5;241m100\u001b[39m)\u001b[38;5;241m*\u001b[39mM\u001b[38;5;241m.\u001b[39mscale_independent_growth_factor(\u001b[38;5;241m100\u001b[39m))\n",
      "\u001b[0;31mKeyboardInterrupt\u001b[0m: "
     ]
    }
   ],
   "source": [
    "allsavedT(BOSSdiclow,BOSSdiclowf,'LOWZpksNk')"
   ]
  },
  {
   "cell_type": "markdown",
   "metadata": {},
   "source": [
    "# DESI"
   ]
  },
  {
   "cell_type": "code",
   "execution_count": null,
   "metadata": {},
   "outputs": [],
   "source": [
    "ztabDESI = np.array([0.65, 0.75, 0.85, 0.95, 1.05, 1.15, 1.25, 1.35, 1.45, 1.55,1.65])"
   ]
  },
  {
   "cell_type": "code",
   "execution_count": null,
   "metadata": {},
   "outputs": [],
   "source": [
    "getDandf(ztabDESI)"
   ]
  },
  {
   "cell_type": "code",
   "execution_count": null,
   "metadata": {},
   "outputs": [],
   "source": [
    "DESIdic1 = getalldics(0.84,3.044,0.965,0.673, 0.322106,0.02237,0.3,0)\n",
    "DESIdic1f = getalldicsforf(0.84,3.044,0.965,0.673, 0.322106,0.02237,0.3,0)\n",
    "getD(cosmicdicn(0.84,3.044,0.965,0.673, 0.322106,0.02237,0.3,0))"
   ]
  },
  {
   "cell_type": "code",
   "execution_count": null,
   "metadata": {},
   "outputs": [],
   "source": [
    "allsavedT(DESIdic1,DESIdic1f,'DESIlNk')"
   ]
  },
  {
   "cell_type": "code",
   "execution_count": 13,
   "metadata": {},
   "outputs": [
    {
     "data": {
      "text/plain": [
       "0.5528260185623496"
      ]
     },
     "execution_count": 13,
     "metadata": {},
     "output_type": "execute_result"
    }
   ],
   "source": [
    "DESIdic2 = getalldics(1.23,3.044,0.965,0.673, 0.322106,0.02237,0.3)\n",
    "DESIdic2f = getalldicsforf(1.23,3.044,0.965,0.673, 0.322106,0.02237,0.3)\n",
    "getD(cosmicdicn(1.23,3.044,0.965,0.673, 0.322106,0.02237,0.3))"
   ]
  },
  {
   "cell_type": "code",
   "execution_count": 14,
   "metadata": {},
   "outputs": [],
   "source": [
    "allsavedT(DESIdic2,DESIdic2f,'DESIhN')"
   ]
  },
  {
   "cell_type": "markdown",
   "metadata": {},
   "source": [
    "# MMo"
   ]
  },
  {
   "cell_type": "code",
   "execution_count": 15,
   "metadata": {},
   "outputs": [],
   "source": [
    "ztabMMo = np.array([2, 2.5, 3, 3.5, 4, 4.5, 5])"
   ]
  },
  {
   "cell_type": "code",
   "execution_count": 16,
   "metadata": {},
   "outputs": [
    {
     "name": "stdout",
     "output_type": "stream",
     "text": [
      "[0.42020110428342006, 0.36272799579672305, 0.3188745725930273, 0.2844001952601862, 0.25662379231412885, 0.23378307001365894, 0.2146779141872147]\n",
      "[0.9466075281915435, 0.9606657166004888, 0.9687825324004987, 0.973748370874903, 0.9769321736957639, 0.9790517015436108, 0.9805057101340311]\n"
     ]
    }
   ],
   "source": [
    "getDandf(ztabMMo)"
   ]
  },
  {
   "cell_type": "code",
   "execution_count": 17,
   "metadata": {},
   "outputs": [
    {
     "data": {
      "text/plain": [
       "0.37721157585659637"
      ]
     },
     "execution_count": 17,
     "metadata": {},
     "output_type": "execute_result"
    }
   ],
   "source": [
    "MModic1 = getalldics(2.36,3.044,0.965,0.673, 0.322106,0.02237,0.3)\n",
    "MModic1f = getalldicsforf(2.36,3.044,0.965,0.673, 0.322106,0.02237,0.3)\n",
    "getD(cosmicdicn(2.36,3.044,0.965,0.673, 0.322106,0.02237,0.3))"
   ]
  },
  {
   "cell_type": "code",
   "execution_count": 18,
   "metadata": {},
   "outputs": [],
   "source": [
    "allsavedT(MModic1,MModic1f,'MMo1N')"
   ]
  },
  {
   "cell_type": "code",
   "execution_count": 19,
   "metadata": {},
   "outputs": [
    {
     "data": {
      "text/plain": [
       "0.2433118256462636"
      ]
     },
     "execution_count": 19,
     "metadata": {},
     "output_type": "execute_result"
    }
   ],
   "source": [
    "MModic2 = getalldics(4.28,3.044,0.965,0.673, 0.322106,0.02237,0.3)\n",
    "MModic2f = getalldicsforf(4.28,3.044,0.965,0.673, 0.322106,0.02237,0.3)\n",
    "getD(cosmicdicn(4.28,3.044,0.965,0.673, 0.322106,0.02237,0.3))"
   ]
  },
  {
   "cell_type": "code",
   "execution_count": 20,
   "metadata": {},
   "outputs": [],
   "source": [
    "allsavedT(MModic2,MModic2f,'MMo2N')"
   ]
  },
  {
   "cell_type": "markdown",
   "metadata": {},
   "source": [
    "# MMp"
   ]
  },
  {
   "cell_type": "code",
   "execution_count": 21,
   "metadata": {},
   "outputs": [],
   "source": [
    "ztabMMp = np.array([2, 3, 4, 5])"
   ]
  },
  {
   "cell_type": "code",
   "execution_count": 22,
   "metadata": {},
   "outputs": [
    {
     "name": "stdout",
     "output_type": "stream",
     "text": [
      "[0.42020110428342006, 0.3188745725930273, 0.25662379231412885, 0.2146779141872147]\n",
      "[0.9466075281915435, 0.9687825324004987, 0.9769321736957639, 0.9805057101340311]\n"
     ]
    }
   ],
   "source": [
    "getDandf(ztabMMp)"
   ]
  },
  {
   "cell_type": "code",
   "execution_count": 23,
   "metadata": {},
   "outputs": [
    {
     "data": {
      "text/plain": [
       "0.4060902797154226"
      ]
     },
     "execution_count": 23,
     "metadata": {},
     "output_type": "execute_result"
    }
   ],
   "source": [
    "MMpdic1 = getalldics(2.11,3.044,0.965,0.673, 0.322106,0.02237,0.3)\n",
    "MMpdic1f = getalldicsforf(2.11,3.044,0.965,0.673, 0.322106,0.02237,0.3)\n",
    "getD(cosmicdicn(2.11,3.044,0.965,0.673, 0.322106,0.02237,0.3))"
   ]
  },
  {
   "cell_type": "code",
   "execution_count": 24,
   "metadata": {},
   "outputs": [],
   "source": [
    "allsavedT(MMpdic1,MMpdic1f,'MMp1N')"
   ]
  },
  {
   "cell_type": "code",
   "execution_count": 25,
   "metadata": {},
   "outputs": [
    {
     "data": {
      "text/plain": [
       "0.24421674005370525"
      ]
     },
     "execution_count": 25,
     "metadata": {},
     "output_type": "execute_result"
    }
   ],
   "source": [
    "MMpdic2 = getalldics(4.26,3.044,0.965,0.673, 0.322106,0.02237,0.3)\n",
    "MMpdic2f = getalldicsforf(4.26,3.044,0.965,0.673, 0.322106,0.02237,0.3)\n",
    "getD(cosmicdicn(4.26,3.044,0.965,0.673, 0.322106,0.02237,0.3))"
   ]
  },
  {
   "cell_type": "code",
   "execution_count": 26,
   "metadata": {},
   "outputs": [],
   "source": [
    "allsavedT(MMpdic2,MMpdic2f,'MMp2N')"
   ]
  },
  {
   "cell_type": "code",
   "execution_count": null,
   "metadata": {},
   "outputs": [],
   "source": []
  }
 ],
 "metadata": {
  "kernelspec": {
   "display_name": "Python 3 (ipykernel)",
   "language": "python",
   "name": "python3"
  },
  "language_info": {
   "codemirror_mode": {
    "name": "ipython",
    "version": 3
   },
   "file_extension": ".py",
   "mimetype": "text/x-python",
   "name": "python",
   "nbconvert_exporter": "python",
   "pygments_lexer": "ipython3",
   "version": "3.9.12"
  }
 },
 "nbformat": 4,
 "nbformat_minor": 4
}
